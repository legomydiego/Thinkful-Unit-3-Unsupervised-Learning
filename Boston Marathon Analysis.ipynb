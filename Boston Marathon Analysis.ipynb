{
 "cells": [
  {
   "cell_type": "code",
   "execution_count": 1,
   "metadata": {},
   "outputs": [],
   "source": [
    "import numpy as np\n",
    "import pandas as pd\n",
    "import scipy\n",
    "import matplotlib.pyplot as plt\n",
    "import seaborn as sns\n",
    "%matplotlib inline"
   ]
  },
  {
   "cell_type": "code",
   "execution_count": 7,
   "metadata": {},
   "outputs": [],
   "source": [
    "df = pd.read_csv('Boston Marathon 2014.csv')"
   ]
  },
  {
   "cell_type": "code",
   "execution_count": 8,
   "metadata": {},
   "outputs": [
    {
     "data": {
      "text/html": [
       "<div>\n",
       "<style scoped>\n",
       "    .dataframe tbody tr th:only-of-type {\n",
       "        vertical-align: middle;\n",
       "    }\n",
       "\n",
       "    .dataframe tbody tr th {\n",
       "        vertical-align: top;\n",
       "    }\n",
       "\n",
       "    .dataframe thead th {\n",
       "        text-align: right;\n",
       "    }\n",
       "</style>\n",
       "<table border=\"1\" class=\"dataframe\">\n",
       "  <thead>\n",
       "    <tr style=\"text-align: right;\">\n",
       "      <th></th>\n",
       "      <th>10k</th>\n",
       "      <th>name</th>\n",
       "      <th>division</th>\n",
       "      <th>25k</th>\n",
       "      <th>gender</th>\n",
       "      <th>age</th>\n",
       "      <th>official</th>\n",
       "      <th>bib</th>\n",
       "      <th>genderdiv</th>\n",
       "      <th>ctz</th>\n",
       "      <th>...</th>\n",
       "      <th>overall</th>\n",
       "      <th>pace</th>\n",
       "      <th>state</th>\n",
       "      <th>30k</th>\n",
       "      <th>5k</th>\n",
       "      <th>half</th>\n",
       "      <th>20k</th>\n",
       "      <th>country</th>\n",
       "      <th>city</th>\n",
       "      <th>40k</th>\n",
       "    </tr>\n",
       "  </thead>\n",
       "  <tbody>\n",
       "    <tr>\n",
       "      <th>0</th>\n",
       "      <td>17.37</td>\n",
       "      <td>Yamamoto, Hiroyuki</td>\n",
       "      <td>8</td>\n",
       "      <td>47.67</td>\n",
       "      <td>M</td>\n",
       "      <td>47</td>\n",
       "      <td>85.25</td>\n",
       "      <td>W1</td>\n",
       "      <td>8</td>\n",
       "      <td>NaN</td>\n",
       "      <td>...</td>\n",
       "      <td>8</td>\n",
       "      <td>3.27</td>\n",
       "      <td>NaN</td>\n",
       "      <td>59.18</td>\n",
       "      <td>8.02</td>\n",
       "      <td>39.72</td>\n",
       "      <td>37.65</td>\n",
       "      <td>JPN</td>\n",
       "      <td>Fukuoka</td>\n",
       "      <td>80.43</td>\n",
       "    </tr>\n",
       "    <tr>\n",
       "      <th>1</th>\n",
       "      <td>32.58</td>\n",
       "      <td>Jeptoo, Rita</td>\n",
       "      <td>1</td>\n",
       "      <td>82.43</td>\n",
       "      <td>F</td>\n",
       "      <td>33</td>\n",
       "      <td>138.95</td>\n",
       "      <td>F1</td>\n",
       "      <td>1</td>\n",
       "      <td>NaN</td>\n",
       "      <td>...</td>\n",
       "      <td>21</td>\n",
       "      <td>5.30</td>\n",
       "      <td>NaN</td>\n",
       "      <td>99.33</td>\n",
       "      <td>16.22</td>\n",
       "      <td>69.47</td>\n",
       "      <td>65.83</td>\n",
       "      <td>KEN</td>\n",
       "      <td>Eldoret</td>\n",
       "      <td>132.10</td>\n",
       "    </tr>\n",
       "    <tr>\n",
       "      <th>2</th>\n",
       "      <td>16.62</td>\n",
       "      <td>Van Dyk, Ernst F.</td>\n",
       "      <td>1</td>\n",
       "      <td>45.80</td>\n",
       "      <td>M</td>\n",
       "      <td>41</td>\n",
       "      <td>80.60</td>\n",
       "      <td>W2</td>\n",
       "      <td>1</td>\n",
       "      <td>NaN</td>\n",
       "      <td>...</td>\n",
       "      <td>1</td>\n",
       "      <td>3.08</td>\n",
       "      <td>NaN</td>\n",
       "      <td>56.45</td>\n",
       "      <td>7.75</td>\n",
       "      <td>38.03</td>\n",
       "      <td>36.10</td>\n",
       "      <td>RSA</td>\n",
       "      <td>Paarl</td>\n",
       "      <td>76.10</td>\n",
       "    </tr>\n",
       "    <tr>\n",
       "      <th>3</th>\n",
       "      <td>32.57</td>\n",
       "      <td>Dibaba, Mare</td>\n",
       "      <td>3</td>\n",
       "      <td>82.43</td>\n",
       "      <td>F</td>\n",
       "      <td>24</td>\n",
       "      <td>140.58</td>\n",
       "      <td>F2</td>\n",
       "      <td>3</td>\n",
       "      <td>NaN</td>\n",
       "      <td>...</td>\n",
       "      <td>27</td>\n",
       "      <td>5.37</td>\n",
       "      <td>NaN</td>\n",
       "      <td>99.33</td>\n",
       "      <td>16.20</td>\n",
       "      <td>69.47</td>\n",
       "      <td>65.83</td>\n",
       "      <td>ETH</td>\n",
       "      <td>Shoa</td>\n",
       "      <td>132.95</td>\n",
       "    </tr>\n",
       "    <tr>\n",
       "      <th>4</th>\n",
       "      <td>17.12</td>\n",
       "      <td>Hokinoue, Kota</td>\n",
       "      <td>2</td>\n",
       "      <td>46.37</td>\n",
       "      <td>M</td>\n",
       "      <td>40</td>\n",
       "      <td>81.23</td>\n",
       "      <td>W3</td>\n",
       "      <td>2</td>\n",
       "      <td>NaN</td>\n",
       "      <td>...</td>\n",
       "      <td>2</td>\n",
       "      <td>3.10</td>\n",
       "      <td>NaN</td>\n",
       "      <td>57.03</td>\n",
       "      <td>8.02</td>\n",
       "      <td>38.60</td>\n",
       "      <td>36.58</td>\n",
       "      <td>JPN</td>\n",
       "      <td>Nogata Fukuoka</td>\n",
       "      <td>76.72</td>\n",
       "    </tr>\n",
       "  </tbody>\n",
       "</table>\n",
       "<p>5 rows × 21 columns</p>\n",
       "</div>"
      ],
      "text/plain": [
       "     10k                name  division    25k gender  age  official bib  \\\n",
       "0  17.37  Yamamoto, Hiroyuki         8  47.67      M   47     85.25  W1   \n",
       "1  32.58        Jeptoo, Rita         1  82.43      F   33    138.95  F1   \n",
       "2  16.62   Van Dyk, Ernst F.         1  45.80      M   41     80.60  W2   \n",
       "3  32.57        Dibaba, Mare         3  82.43      F   24    140.58  F2   \n",
       "4  17.12      Hokinoue, Kota         2  46.37      M   40     81.23  W3   \n",
       "\n",
       "   genderdiv  ctz   ...   overall  pace  state    30k     5k   half    20k  \\\n",
       "0          8  NaN   ...         8  3.27    NaN  59.18   8.02  39.72  37.65   \n",
       "1          1  NaN   ...        21  5.30    NaN  99.33  16.22  69.47  65.83   \n",
       "2          1  NaN   ...         1  3.08    NaN  56.45   7.75  38.03  36.10   \n",
       "3          3  NaN   ...        27  5.37    NaN  99.33  16.20  69.47  65.83   \n",
       "4          2  NaN   ...         2  3.10    NaN  57.03   8.02  38.60  36.58   \n",
       "\n",
       "  country            city     40k  \n",
       "0     JPN         Fukuoka   80.43  \n",
       "1     KEN         Eldoret  132.10  \n",
       "2     RSA           Paarl   76.10  \n",
       "3     ETH            Shoa  132.95  \n",
       "4     JPN  Nogata Fukuoka   76.72  \n",
       "\n",
       "[5 rows x 21 columns]"
      ]
     },
     "execution_count": 8,
     "metadata": {},
     "output_type": "execute_result"
    }
   ],
   "source": [
    "df.head()"
   ]
  },
  {
   "cell_type": "code",
   "execution_count": 9,
   "metadata": {},
   "outputs": [
    {
     "name": "stdout",
     "output_type": "stream",
     "text": [
      "<class 'pandas.core.frame.DataFrame'>\n",
      "RangeIndex: 31984 entries, 0 to 31983\n",
      "Data columns (total 21 columns):\n",
      "10k          31984 non-null object\n",
      "name         31984 non-null object\n",
      "division     31984 non-null int64\n",
      "25k          31984 non-null object\n",
      "gender       31984 non-null object\n",
      "age          31984 non-null int64\n",
      "official     31984 non-null float64\n",
      "bib          31984 non-null object\n",
      "genderdiv    31984 non-null int64\n",
      "ctz          1244 non-null object\n",
      "35k          31984 non-null object\n",
      "overall      31984 non-null int64\n",
      "pace         31984 non-null float64\n",
      "state        29408 non-null object\n",
      "30k          31984 non-null object\n",
      "5k           31984 non-null object\n",
      "half         31984 non-null object\n",
      "20k          31984 non-null object\n",
      "country      31984 non-null object\n",
      "city         31983 non-null object\n",
      "40k          31984 non-null object\n",
      "dtypes: float64(2), int64(4), object(15)\n",
      "memory usage: 5.1+ MB\n"
     ]
    }
   ],
   "source": [
    "df.info()"
   ]
  },
  {
   "cell_type": "code",
   "execution_count": 11,
   "metadata": {},
   "outputs": [
    {
     "data": {
      "text/plain": [
       "count     1244\n",
       "unique      84\n",
       "top        GBR\n",
       "freq       171\n",
       "Name: ctz, dtype: object"
      ]
     },
     "execution_count": 11,
     "metadata": {},
     "output_type": "execute_result"
    }
   ],
   "source": [
    "df['ctz'].describe()"
   ]
  },
  {
   "cell_type": "code",
   "execution_count": 13,
   "metadata": {},
   "outputs": [],
   "source": [
    "df.drop('ctz', axis=1, inplace=True)"
   ]
  },
  {
   "cell_type": "code",
   "execution_count": 21,
   "metadata": {},
   "outputs": [],
   "source": [
    "df['10k'] = pd.to_numeric(df['10k'], errors='coerce')\n",
    "df['25k'] = pd.to_numeric(df['25k'], errors='coerce')\n",
    "df['35k'] = pd.to_numeric(df['35k'], errors='coerce')\n",
    "df['30k'] = pd.to_numeric(df['30k'], errors='coerce')\n",
    "df['5k'] = pd.to_numeric(df['5k'], errors='coerce')\n",
    "df['20k'] = pd.to_numeric(df['20k'], errors='coerce')\n",
    "df['40k'] = pd.to_numeric(df['40k'], errors='coerce')\n",
    "df['half'] = pd.to_numeric(df['half'], errors='coerce')\n"
   ]
  },
  {
   "cell_type": "code",
   "execution_count": 22,
   "metadata": {},
   "outputs": [
    {
     "data": {
      "text/plain": [
       "2576"
      ]
     },
     "execution_count": 22,
     "metadata": {},
     "output_type": "execute_result"
    }
   ],
   "source": [
    "df['state'].isnull().sum()"
   ]
  },
  {
   "cell_type": "code",
   "execution_count": 30,
   "metadata": {},
   "outputs": [],
   "source": [
    "from sklearn.preprocessing import LabelEncoder\n",
    "lb_maker = LabelEncoder()"
   ]
  },
  {
   "cell_type": "code",
   "execution_count": 28,
   "metadata": {},
   "outputs": [],
   "source": [
    "df.dropna(inplace=True)"
   ]
  },
  {
   "cell_type": "code",
   "execution_count": 32,
   "metadata": {},
   "outputs": [],
   "source": [
    "df['gender'] = lb_maker.fit_transform(df['gender'])\n",
    "df['bib'] = lb_maker.fit_transform(df['bib'])\n",
    "df['state'] = lb_maker.fit_transform(df['state'])\n",
    "df['country'] = lb_maker.fit_transform(df['country'])\n",
    "df['city'] = lb_maker.fit_transform(df['city'])"
   ]
  },
  {
   "cell_type": "code",
   "execution_count": 33,
   "metadata": {},
   "outputs": [
    {
     "name": "stdout",
     "output_type": "stream",
     "text": [
      "<class 'pandas.core.frame.DataFrame'>\n",
      "Int64Index: 29103 entries, 9 to 31983\n",
      "Data columns (total 21 columns):\n",
      "10k          29103 non-null float64\n",
      "name         29103 non-null object\n",
      "division     29103 non-null int64\n",
      "25k          29103 non-null float64\n",
      "gender       29103 non-null int64\n",
      "age          29103 non-null int64\n",
      "official     29103 non-null float64\n",
      "bib          29103 non-null int64\n",
      "genderdiv    29103 non-null int64\n",
      "35k          29103 non-null float64\n",
      "overall      29103 non-null int64\n",
      "pace         29103 non-null float64\n",
      "state        29103 non-null int64\n",
      "30k          29103 non-null float64\n",
      "5k           29103 non-null float64\n",
      "half         29103 non-null float64\n",
      "20k          29103 non-null float64\n",
      "country      29103 non-null int64\n",
      "city         29103 non-null int64\n",
      "40k          29103 non-null float64\n",
      "25           29103 non-null float64\n",
      "dtypes: float64(11), int64(9), object(1)\n",
      "memory usage: 4.9+ MB\n"
     ]
    }
   ],
   "source": [
    "df.info()"
   ]
  },
  {
   "cell_type": "markdown",
   "metadata": {},
   "source": [
    "Data is clean, on to modeling"
   ]
  },
  {
   "cell_type": "markdown",
   "metadata": {},
   "source": [
    "# Modeling"
   ]
  },
  {
   "cell_type": "code",
   "execution_count": 35,
   "metadata": {},
   "outputs": [],
   "source": [
    "X = df.drop(['name','gender'], axis=1)"
   ]
  },
  {
   "cell_type": "code",
   "execution_count": 36,
   "metadata": {},
   "outputs": [],
   "source": [
    "y = df['gender']"
   ]
  },
  {
   "cell_type": "code",
   "execution_count": 37,
   "metadata": {},
   "outputs": [],
   "source": [
    "from sklearn.preprocessing import normalize"
   ]
  },
  {
   "cell_type": "code",
   "execution_count": 38,
   "metadata": {},
   "outputs": [],
   "source": [
    "X_norm = normalize(X)"
   ]
  },
  {
   "cell_type": "code",
   "execution_count": 40,
   "metadata": {},
   "outputs": [],
   "source": [
    "from sklearn.cluster import KMeans\n",
    "from sklearn.metrics import accuracy_score"
   ]
  },
  {
   "cell_type": "code",
   "execution_count": 41,
   "metadata": {},
   "outputs": [],
   "source": [
    "i = 0\n",
    "results = []\n",
    "for i in range(1,20):\n",
    "    y_pred = KMeans(n_clusters=i, random_state=101).fit_predict(X_norm)\n",
    "    results.append(accuracy_score(y, y_pred))\n",
    "    i+=1"
   ]
  },
  {
   "cell_type": "code",
   "execution_count": 42,
   "metadata": {},
   "outputs": [
    {
     "data": {
      "text/plain": [
       "[0.4647287221248669,\n",
       " 0.6518228361337319,\n",
       " 0.2386008315293956,\n",
       " 0.2684946569082225,\n",
       " 0.46692780812974605,\n",
       " 0.3093839123114456,\n",
       " 0.2701783321307082,\n",
       " 0.17389959797958973,\n",
       " 0.17211284060062537,\n",
       " 0.11813215132460571,\n",
       " 0.007902965330034704,\n",
       " 0.2056489021750335,\n",
       " 0.009311754801910457,\n",
       " 0.17383087654193727,\n",
       " 0.17743875201869222,\n",
       " 0.08975019757413324,\n",
       " 0.032127272102532384,\n",
       " 0.1301927636326152,\n",
       " 0.1252791808404632]"
      ]
     },
     "execution_count": 42,
     "metadata": {},
     "output_type": "execute_result"
    }
   ],
   "source": [
    "results"
   ]
  },
  {
   "cell_type": "markdown",
   "metadata": {},
   "source": [
    "Best accuracy achieved with two clusters, which makes sense since we are trying to predict gender"
   ]
  },
  {
   "cell_type": "code",
   "execution_count": 44,
   "metadata": {},
   "outputs": [],
   "source": [
    "from sklearn.decomposition import PCA"
   ]
  },
  {
   "cell_type": "code",
   "execution_count": 45,
   "metadata": {},
   "outputs": [],
   "source": [
    "X_pca = PCA(2).fit_transform(X_norm)"
   ]
  },
  {
   "cell_type": "code",
   "execution_count": 46,
   "metadata": {},
   "outputs": [],
   "source": [
    "y_pred = KMeans(n_clusters=2, random_state=101).fit_predict(X_pca)"
   ]
  },
  {
   "cell_type": "code",
   "execution_count": 47,
   "metadata": {},
   "outputs": [
    {
     "name": "stdout",
     "output_type": "stream",
     "text": [
      "0.6517884754149057\n"
     ]
    }
   ],
   "source": [
    "print(accuracy_score(y, y_pred))"
   ]
  },
  {
   "cell_type": "code",
   "execution_count": null,
   "metadata": {},
   "outputs": [],
   "source": []
  }
 ],
 "metadata": {
  "kernelspec": {
   "display_name": "Python 3",
   "language": "python",
   "name": "python3"
  },
  "language_info": {
   "codemirror_mode": {
    "name": "ipython",
    "version": 3
   },
   "file_extension": ".py",
   "mimetype": "text/x-python",
   "name": "python",
   "nbconvert_exporter": "python",
   "pygments_lexer": "ipython3",
   "version": "3.7.2"
  }
 },
 "nbformat": 4,
 "nbformat_minor": 2
}
